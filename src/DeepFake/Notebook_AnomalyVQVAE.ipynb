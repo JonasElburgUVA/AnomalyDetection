{
  "cells": [
    {
      "attachments": {},
      "cell_type": "markdown",
      "metadata": {
        "id": "grauvAgEvJ6i"
      },
      "source": [
        "# Anomaly detection in faces using VQ-VAE"
      ]
    },
    {
      "attachments": {},
      "cell_type": "markdown",
      "metadata": {
        "id": "Izwifj64Lo5J"
      },
      "source": [
        "**Show necessary code blocks to reproduce some examples. Some reconstructions, evalutation scores etc.**"
      ]
    },
    {
      "attachments": {},
      "cell_type": "markdown",
      "metadata": {
        "id": "WD4RFlV8vUW9"
      },
      "source": [
        "This notebook is in addition to the blogpost a tool to guide you through the research we performed inspired on the work of Marimont et al. on Anomaly detection through latent space restoration using VQ-VAE [1]. The purpose of this notebook is not to explain all the theoretical components of the research, rather it is to provide a step-by-step guide to obtain results on a toy data set in the form of snippets of code in conjunction with explanatory text. This is done with the intention to deliver a greater understanding of the topic covered.\n",
        "The structure of this notebook is as follows:\n",
        "1.   go over the necessary pre requisites needed to understand the project. \n",
        "2.   Delve deeper into the components of the original work showing snippets of code that are relevant.\n",
        "3. Introduce the setup of the faces datasets.\n",
        "4. Briefly go over pre-processing changes and relevant code.\n",
        "5. Highlight the changes that are necessary to adapt the original models to fit the new context.\n",
        "6. Touch upon the metrics used for evaluating and showing a summary of quantitative and qualitative results.\n",
        "\n",
        "**Abstract**\n",
        "(...)"
      ]
    },
    {
      "attachments": {},
      "cell_type": "markdown",
      "metadata": {
        "id": "jNxjDYa4x_22"
      },
      "source": [
        "# 1. Pre-requisites\n",
        "\n",
        "In this section we are going to present some of the fundamental components to have a better understanding of the proposed methodology. This means we will cover the VQ-VAE and the PixelSnail. Additionally, we will cover the structure of the data, this will be necessary to understand the changes made later.\n"
      ]
    },
    {
      "attachments": {},
      "cell_type": "markdown",
      "metadata": {},
      "source": [
        "## Imports"
      ]
    },
    {
      "cell_type": "code",
      "execution_count": 1,
      "metadata": {},
      "outputs": [
        {
          "name": "stderr",
          "output_type": "stream",
          "text": [
            "/home/lcur1737/.conda/envs/vae/lib/python3.9/site-packages/tqdm/auto.py:21: TqdmWarning: IProgress not found. Please update jupyter and ipywidgets. See https://ipywidgets.readthedocs.io/en/stable/user_install.html\n",
            "  from .autonotebook import tqdm as notebook_tqdm\n",
            "Failed to detect the name of this notebook, you can set it manually with the WANDB_NOTEBOOK_NAME environment variable to enable code saving.\n",
            "\u001b[34m\u001b[1mwandb\u001b[0m: Currently logged in as: \u001b[33mmartentyrk\u001b[0m (\u001b[33mvqvaeanomaly\u001b[0m). Use \u001b[1m`wandb login --relogin`\u001b[0m to force relogin\n"
          ]
        }
      ],
      "source": [
        "import torch\n",
        "import torchvision.transforms as transforms\n",
        "import numpy as np\n",
        "from torch.utils.data import DataLoader\n",
        "import torch.nn.functional as F\n",
        "from torchvision.datasets import ImageFolder\n",
        "from tqdm import tqdm\n",
        "import matplotlib.pyplot as plt\n",
        "import nets_LV\n",
        "import nets_AR\n",
        "import utils\n"
      ]
    },
    {
      "attachments": {},
      "cell_type": "markdown",
      "metadata": {},
      "source": [
        "# Fake and real faces demo"
      ]
    },
    {
      "attachments": {},
      "cell_type": "markdown",
      "metadata": {
        "id": "jr9G3ADC43pR"
      },
      "source": [
        "## Initialize models with pretrained weights"
      ]
    },
    {
      "cell_type": "code",
      "execution_count": 2,
      "metadata": {},
      "outputs": [],
      "source": [
        "device = torch.device(\"cuda\") if torch.cuda.is_available() else torch.device(\"cpu\")\n",
        "\n",
        "vqvae_checkpoint_path = '/home/lcur1737/checkpoints/ffhq_continued_020.pt'\n",
        "ar_checkpoint_path = '/home/lcur1737/checkpoints/ffhq_ar_030.pt'\n",
        "vqvae_checkpoint = torch.load(vqvae_checkpoint_path, map_location=device)\n",
        "ar_checkpoint = torch.load(ar_checkpoint_path, map_location=device)\n",
        "\n",
        "vq_model = nets_LV.VQVAE(\n",
        "    d=3,\n",
        "    n_channels=(16, 32, 64, 256),\n",
        "    code_size=128,\n",
        "    n_res_block=2,\n",
        "    dropout_p=.1\n",
        ").to(device)\n",
        "\n",
        "vq_model.load_state_dict(vqvae_checkpoint[\"model\"])\n",
        "vq_model = vq_model.to(device)\n",
        "\n",
        "ar_model = nets_LV.VQLatentSNAIL(\n",
        "    feature_extractor_model=vq_model,\n",
        "    shape=(16, 16),\n",
        "    n_block=4,\n",
        "    n_res_block=4,\n",
        "    n_channels=128\n",
        ").to(device)\n",
        "\n",
        "ar_model.load_state_dict(ar_checkpoint['model'])\n",
        "ar_model = ar_model.to(device)"
      ]
    },
    {
      "attachments": {},
      "cell_type": "markdown",
      "metadata": {
        "id": "kgkwdUmm1kKC"
      },
      "source": [
        "## FFHQ 512 & Real/Fake faces dataset"
      ]
    },
    {
      "cell_type": "code",
      "execution_count": 23,
      "metadata": {},
      "outputs": [],
      "source": [
        "transform_pipeline = transforms.Compose([\n",
        "    transforms.ToTensor()\n",
        "])\n",
        "\n",
        "demo_data_path_ffhq = '/home/lcur1737/AnomalyDetection/data/FFhq_toy'\n",
        "\n",
        "\n",
        "demo_dataset = ImageFolder(demo_data_path_ffhq, transform=transform_pipeline)\n",
        "demo_dataloader = DataLoader(demo_dataset, batch_size=3, shuffle=True)"
      ]
    },
    {
      "attachments": {},
      "cell_type": "markdown",
      "metadata": {},
      "source": [
        "## Sample wise score"
      ]
    },
    {
      "cell_type": "code",
      "execution_count": 24,
      "metadata": {},
      "outputs": [
        {
          "name": "stderr",
          "output_type": "stream",
          "text": [
            "100%|██████████| 1/1 [00:07<00:00,  7.83s/it]\n"
          ]
        }
      ],
      "source": [
        "threshold = 7\n",
        "\n",
        "pred = []\n",
        "\n",
        "ar_model.eval()\n",
        "for X, _ in tqdm(demo_dataloader):\n",
        "    with torch.no_grad():\n",
        "        loss = ar_model.loss(X, reduction='none')['loss'].flatten(1)\n",
        "        \n",
        "        score = torch.sum(loss*(loss>threshold), 1).float()\n",
        "        pred.append([score.cpu().numpy()])"
      ]
    },
    {
      "cell_type": "code",
      "execution_count": 30,
      "metadata": {},
      "outputs": [
        {
          "ename": "IndexError",
          "evalue": "index 3 is out of bounds for dimension 0 with size 3",
          "output_type": "error",
          "traceback": [
            "\u001b[0;31m---------------------------------------------------------------------------\u001b[0m",
            "\u001b[0;31mIndexError\u001b[0m                                Traceback (most recent call last)",
            "Cell \u001b[0;32mIn[30], line 5\u001b[0m\n\u001b[1;32m      1\u001b[0m no \u001b[39m=\u001b[39m \u001b[39m10\u001b[39m\n\u001b[1;32m      2\u001b[0m fig,ax \u001b[39m=\u001b[39m plt\u001b[39m.\u001b[39msubplots(\u001b[39m1\u001b[39m,\u001b[39m4\u001b[39m,figsize \u001b[39m=\u001b[39m (\u001b[39m3\u001b[39m,\u001b[39m3\u001b[39m))\n\u001b[0;32m----> 5\u001b[0m [a\u001b[39m.\u001b[39mimshow(\u001b[39mnext\u001b[39m(\u001b[39miter\u001b[39m(demo_dataloader))[\u001b[39m0\u001b[39m][i]\u001b[39m.\u001b[39mpermute(\u001b[39m1\u001b[39m,\u001b[39m2\u001b[39m,\u001b[39m0\u001b[39m),vmin\u001b[39m=\u001b[39m\u001b[39m-\u001b[39m\u001b[39m3\u001b[39m,vmax\u001b[39m=\u001b[39m\u001b[39m3\u001b[39m) \u001b[39mfor\u001b[39;00m i,a \u001b[39min\u001b[39;00m \u001b[39menumerate\u001b[39m(ax)]\n\u001b[1;32m      6\u001b[0m [a\u001b[39m.\u001b[39mset_title(\u001b[39m'\u001b[39m\u001b[39mScore \u001b[39m\u001b[39m{:.1f}\u001b[39;00m\u001b[39m'\u001b[39m\u001b[39m.\u001b[39mformat(pred[i])) \u001b[39mfor\u001b[39;00m i,a \u001b[39min\u001b[39;00m \u001b[39menumerate\u001b[39m(ax)]\n\u001b[1;32m      7\u001b[0m [a\u001b[39m.\u001b[39maxis(\u001b[39m'\u001b[39m\u001b[39moff\u001b[39m\u001b[39m'\u001b[39m) \u001b[39mfor\u001b[39;00m a \u001b[39min\u001b[39;00m ax]\n",
            "Cell \u001b[0;32mIn[30], line 5\u001b[0m, in \u001b[0;36m<listcomp>\u001b[0;34m(.0)\u001b[0m\n\u001b[1;32m      1\u001b[0m no \u001b[39m=\u001b[39m \u001b[39m10\u001b[39m\n\u001b[1;32m      2\u001b[0m fig,ax \u001b[39m=\u001b[39m plt\u001b[39m.\u001b[39msubplots(\u001b[39m1\u001b[39m,\u001b[39m4\u001b[39m,figsize \u001b[39m=\u001b[39m (\u001b[39m3\u001b[39m,\u001b[39m3\u001b[39m))\n\u001b[0;32m----> 5\u001b[0m [a\u001b[39m.\u001b[39mimshow(\u001b[39mnext\u001b[39;49m(\u001b[39miter\u001b[39;49m(demo_dataloader))[\u001b[39m0\u001b[39;49m][i]\u001b[39m.\u001b[39mpermute(\u001b[39m1\u001b[39m,\u001b[39m2\u001b[39m,\u001b[39m0\u001b[39m),vmin\u001b[39m=\u001b[39m\u001b[39m-\u001b[39m\u001b[39m3\u001b[39m,vmax\u001b[39m=\u001b[39m\u001b[39m3\u001b[39m) \u001b[39mfor\u001b[39;00m i,a \u001b[39min\u001b[39;00m \u001b[39menumerate\u001b[39m(ax)]\n\u001b[1;32m      6\u001b[0m [a\u001b[39m.\u001b[39mset_title(\u001b[39m'\u001b[39m\u001b[39mScore \u001b[39m\u001b[39m{:.1f}\u001b[39;00m\u001b[39m'\u001b[39m\u001b[39m.\u001b[39mformat(pred[i])) \u001b[39mfor\u001b[39;00m i,a \u001b[39min\u001b[39;00m \u001b[39menumerate\u001b[39m(ax)]\n\u001b[1;32m      7\u001b[0m [a\u001b[39m.\u001b[39maxis(\u001b[39m'\u001b[39m\u001b[39moff\u001b[39m\u001b[39m'\u001b[39m) \u001b[39mfor\u001b[39;00m a \u001b[39min\u001b[39;00m ax]\n",
            "\u001b[0;31mIndexError\u001b[0m: index 3 is out of bounds for dimension 0 with size 3"
          ]
        },
        {
          "data": {
            "image/png": "[encoded data removed]",
            "text/plain": [
              "<Figure size 300x300 with 4 Axes>"
            ]
          },
          "metadata": {},
          "output_type": "display_data"
        }
      ],
      "source": [
        "no = 10\n",
        "fig,ax = plt.subplots(1,4,figsize = (3,3))\n",
        "\n",
        "\n",
        "[a.imshow(next(iter(demo_dataloader))[0][i].permute(1,2,0),vmin=-3,vmax=3) for i,a in enumerate(ax)]\n",
        "[a.set_title('Score {:.1f}'.format(pred[i])) for i,a in enumerate(ax)]\n",
        "[a.axis('off') for a in ax]\n",
        "plt.tight_layout()"
      ]
    },
    {
      "attachments": {},
      "cell_type": "markdown",
      "metadata": {},
      "source": [
        "## Reconstructing with pixel-score"
      ]
    },
    {
      "cell_type": "code",
      "execution_count": null,
      "metadata": {},
      "outputs": [],
      "source": [
        "def reconstruct(n, img, threshold_log_p = 5):\n",
        "    \"\"\" Generates n reconstructions for each image in img.\n",
        "    Resamples latent variables with cross-entropy > threshold\n",
        "    Returns corrected images and associated latent variables\"\"\"\n",
        "          \n",
        "    #Use VQ-VAE to encode original image\n",
        "    codes = ar_model.retrieve_codes(img)\n",
        "    code_size = codes.shape[-2:]\n",
        "    \n",
        "\n",
        "    with torch.no_grad():\n",
        "        samples = codes.clone().unsqueeze(1).repeat(1,n,1,1).reshape(img.shape[0]*n,*code_size)\n",
        "\n",
        "        if not threshold_log_p == None:\n",
        "            for r in tqdm(range(code_size[0])):\n",
        "                for c in range(code_size[1]):        \n",
        "\n",
        "                    code_logits = ar_model.forward_latent(samples)[:,:,r,c]\n",
        "                    loss = F.cross_entropy(code_logits, samples[:, r, c], reduction='none')\n",
        "                    probs = F.softmax(code_logits, dim=1)\n",
        "\n",
        "                    samples[loss > threshold_log_p, r, c] = torch.multinomial(probs, 1).squeeze(-1)[loss > threshold_log_p]\n",
        "\n",
        "        z = vq_model.codebook.embedding(samples.unsqueeze(1))\n",
        "        z = z.squeeze(1).permute(0,3,1,2).contiguous()\n",
        "        \n",
        "        # Split the calculation in batches\n",
        "        x_tilde = []\n",
        "        for i in range(img.shape[0]):\n",
        "            x_tilde.append(vq_model.decode(z[i*n:(i+1)*n]))\n",
        "        x_tilde = torch.cat(x_tilde)\n",
        "        \n",
        "        \n",
        "    return x_tilde.reshape(img.shape[0]*img.shape[1],n,*img.shape[-2:]), samples.reshape(img.shape[0],n,*code_size)\n"
      ]
    },
    {
      "cell_type": "code",
      "execution_count": null,
      "metadata": {},
      "outputs": [],
      "source": [
        "reconstructions = []\n",
        "for X in next(iter(demo_dataloader)):\n",
        "    reconstructions.append(reconstruct(n=5,img=X, threshold_log_p=8)[0])\n",
        "    \n"
      ]
    },
    {
      "attachments": {},
      "cell_type": "markdown",
      "metadata": {},
      "source": [
        "# FaceForensics ++ demo"
      ]
    },
    {
      "attachments": {},
      "cell_type": "markdown",
      "metadata": {},
      "source": [
        "## Initialize models with pretrained weights"
      ]
    },
    {
      "cell_type": "code",
      "execution_count": null,
      "metadata": {},
      "outputs": [],
      "source": [
        "vqvae_checkpoint_path = 'demo_checkpoints/faceforensics_vqvae.pt'\n",
        "vqvae_checkpoint = torch.load(vqvae_checkpoint_path, map_location=device)\n",
        "\n",
        "ar_checkpoint_path = 'demo_checkpoints/faceforensics_ar.pt'\n",
        "ar_checkpoint = torch.load(ar_checkpoint_path, map_location=device)\n",
        "\n",
        "vq_model = nets_LV.VQVAE(\n",
        "    d=3,\n",
        "    n_channels=(16, 32, 64, 256),\n",
        "    code_size=128,\n",
        "    n_res_block=2,\n",
        "    dropout_p=.1\n",
        ").to(device)\n",
        "\n",
        "vq_model.load_state_dict(vqvae_checkpoint[\"model\"])\n",
        "vq_model = vq_model.to(device)\n",
        "\n",
        "ar_model = nets_LV.VQLatentSNAIL(\n",
        "    feature_extractor_model=vq_model,\n",
        "    shape=(16, 16),\n",
        "    n_block=4,\n",
        "    n_res_block=4,\n",
        "    n_channels=128\n",
        ").to(device)\n",
        "\n",
        "ar_model.load_state_dict(ar_checkpoint['model'])\n",
        "ar_model = ar_model.to(device)"
      ]
    },
    {
      "attachments": {},
      "cell_type": "markdown",
      "metadata": {
        "id": "QU4cfJoX1pf8"
      },
      "source": [
        "## FaceForensics++"
      ]
    },
    {
      "cell_type": "code",
      "execution_count": null,
      "metadata": {},
      "outputs": [],
      "source": [
        "transform_pipeline = transforms.Compose([\n",
        "    transforms.Resize((128, 128)),\n",
        "    transforms.ToTensor()\n",
        "])\n",
        "\n",
        "demo_data_path_ffhq = 'demo_data/faceforensics'\n",
        "\n",
        "demo_dataset = ImageFolder(demo_data_path_ffhq, transform=transform_pipeline)\n",
        "demo_dataloader = DataLoader(demo_dataset, batch_size=1, shuffle=True)"
      ]
    },
    {
      "attachments": {},
      "cell_type": "markdown",
      "metadata": {
        "id": "_YBGt9FuyPZt"
      },
      "source": [
        "# 4. Pre-processing pipeline"
      ]
    },
    {
      "attachments": {},
      "cell_type": "markdown",
      "metadata": {
        "id": "AZLwlpUWyyFW"
      },
      "source": [
        "# 5. Modifications original methodology"
      ]
    },
    {
      "attachments": {},
      "cell_type": "markdown",
      "metadata": {
        "id": "R0YDbLIqy9jp"
      },
      "source": [
        "# 6. Evaluation and discussion"
      ]
    },
    {
      "cell_type": "code",
      "execution_count": null,
      "metadata": {
        "id": "Q0Zxk2XYx_RK"
      },
      "outputs": [],
      "source": []
    },
    {
      "cell_type": "code",
      "execution_count": null,
      "metadata": {
        "id": "nJe-9TbavBdR"
      },
      "outputs": [],
      "source": []
    }
  ],
  "metadata": {
    "colab": {
      "provenance": []
    },
    "kernelspec": {
      "display_name": "Python 3",
      "name": "python3"
    },
    "language_info": {
      "codemirror_mode": {
        "name": "ipython",
        "version": 3
      },
      "file_extension": ".py",
      "mimetype": "text/x-python",
      "name": "python",
      "nbconvert_exporter": "python",
      "pygments_lexer": "ipython3",
      "version": "3.9.16"
    }
  },
  "nbformat": 4,
  "nbformat_minor": 0
}
